{
  "nbformat": 4,
  "nbformat_minor": 0,
  "metadata": {
    "colab": {
      "provenance": [],
      "authorship_tag": "ABX9TyOWINvaaWORkI3OBA/axKrD",
      "include_colab_link": true
    },
    "kernelspec": {
      "name": "python3",
      "display_name": "Python 3"
    },
    "language_info": {
      "name": "python"
    }
  },
  "cells": [
    {
      "cell_type": "markdown",
      "metadata": {
        "id": "view-in-github",
        "colab_type": "text"
      },
      "source": [
        "<a href=\"https://colab.research.google.com/github/SURYAKNIGHT17/DATA_SCIENTIST/blob/main/Ip_finder.ipynb\" target=\"_parent\"><img src=\"https://colab.research.google.com/assets/colab-badge.svg\" alt=\"Open In Colab\"/></a>"
      ]
    },
    {
      "cell_type": "code",
      "execution_count": null,
      "metadata": {
        "colab": {
          "base_uri": "https://localhost:8080/"
        },
        "id": "mTIQa5xIddA3",
        "outputId": "ae39a1d7-298f-4ba1-efdf-1792d5aef122"
      },
      "outputs": [
        {
          "output_type": "stream",
          "name": "stdout",
          "text": [
            "Enter domain name: www.google.com\n",
            "IP Address for www.google.com is: 172.217.214.105\n"
          ]
        }
      ],
      "source": [
        "import socket\n",
        "\n",
        "def dns_resolver():\n",
        "    domain = input(\"Enter domain name: \")\n",
        "\n",
        "    try:\n",
        "        # Perform DNS lookup\n",
        "        ip_address = socket.gethostbyname(domain)\n",
        "        print(f\"IP Address for {domain} is: {ip_address}\")\n",
        "    except socket.gaierror:\n",
        "        # Handle DNS resolution failure\n",
        "        print(f\"Unable to resolve host: {domain}\")\n",
        "    except Exception as e:\n",
        "        # Handle any other exceptions\n",
        "        print(f\"An error occurred: {str(e)}\")\n",
        "\n",
        "if __name__ == \"__main__\":\n",
        "    dns_resolver()\n"
      ]
    },
    {
      "cell_type": "code",
      "source": [
        "!pip install folium pillow\n",
        "import socket\n",
        "import requests\n",
        "import folium\n",
        "import json\n",
        "import ipaddress\n",
        "from PIL import Image\n",
        "from io import BytesIO\n",
        "from IPython.display import display, Image as IPyImage\n",
        "\n",
        "def dns_resolver(domain):\n",
        "    try:\n",
        "        # Perform DNS lookup\n",
        "        ip_address = socket.gethostbyname(domain)\n",
        "        print(f\"\\nDomain: {domain}\")\n",
        "        print(f\"IP Address for {domain} is: {ip_address}\")\n",
        "\n",
        "        # Check if IP is public or private\n",
        "        if is_public_ip(ip_address):\n",
        "            print(\"IP Type: Public\")\n",
        "        else:\n",
        "            print(\"IP Type: Private\")\n",
        "\n",
        "        # Reverse DNS lookup\n",
        "        reverse_domain = reverse_dns_lookup(ip_address)\n",
        "        if reverse_domain:\n",
        "            print(f\"Reverse DNS Lookup Result: {reverse_domain}\")\n",
        "\n",
        "        # Get geolocation data for the IP address\n",
        "        geo_data = get_ip_geolocation(ip_address)\n",
        "        if geo_data:\n",
        "            display_location_details(geo_data)\n",
        "            display_asn_info(geo_data)\n",
        "\n",
        "            # Display interactive map with location marker\n",
        "            latitude = geo_data.get(\"lat\")\n",
        "            longitude = geo_data.get(\"lon\")\n",
        "            display_map(latitude, longitude)\n",
        "\n",
        "            # Display website logo\n",
        "            display_website_logo(domain)\n",
        "\n",
        "            # Option to export the data to a file\n",
        "            export_to_file(geo_data, f\"{domain}_dns_info.json\")\n",
        "        else:\n",
        "            print(\"Geolocation data not available.\")\n",
        "\n",
        "    except socket.gaierror:\n",
        "        print(f\"Unable to resolve host: {domain}\")\n",
        "    except Exception as e:\n",
        "        print(f\"An error occurred: {str(e)}\")\n",
        "\n",
        "def reverse_dns_lookup(ip_address):\n",
        "    try:\n",
        "        host = socket.gethostbyaddr(ip_address)\n",
        "        return host[0]  # Returns the primary domain name\n",
        "    except socket.herror:\n",
        "        return None\n",
        "\n",
        "def get_ip_geolocation(ip_address):\n",
        "    url = f\"http://ip-api.com/json/{ip_address}\"\n",
        "    try:\n",
        "        response = requests.get(url)\n",
        "        response.raise_for_status()\n",
        "        data = response.json()\n",
        "        if data[\"status\"] == \"success\":\n",
        "            return data\n",
        "    except requests.RequestException as e:\n",
        "        print(f\"Error fetching geolocation data: {e}\")\n",
        "    return None\n",
        "\n",
        "def display_asn_info(geo_data):\n",
        "    asn = geo_data.get(\"as\")\n",
        "    isp = geo_data.get(\"isp\")\n",
        "    org = geo_data.get(\"org\")\n",
        "    country = geo_data.get(\"country\")\n",
        "    print(f\"ASN: {asn}, ISP: {isp}, Organization: {org}, Country: {country}\")\n",
        "\n",
        "def display_location_details(geo_data):\n",
        "    region = geo_data.get(\"regionName\")\n",
        "    city = geo_data.get(\"city\")\n",
        "    timezone = geo_data.get(\"timezone\")\n",
        "    postal_code = geo_data.get(\"zip\")\n",
        "    latitude = geo_data.get(\"lat\")\n",
        "    longitude = geo_data.get(\"lon\")\n",
        "    print(f\"Location Details - Region: {region}, City: {city}, Timezone: {timezone}, Postal Code: {postal_code}\")\n",
        "    print(f\"Coordinates - Latitude: {latitude}, Longitude: {longitude}\")\n",
        "\n",
        "def display_map(latitude, longitude):\n",
        "    # Create a folium map centered at the specified latitude and longitude\n",
        "    map_folium = folium.Map(location=[latitude, longitude], zoom_start=12)\n",
        "    # Add a marker for the location\n",
        "    folium.Marker([latitude, longitude], popup=\"Location\").add_to(map_folium)\n",
        "    # Display the map\n",
        "    display(map_folium)\n",
        "\n",
        "def display_website_logo(domain):\n",
        "    logo_url = f\"https://www.google.com/s2/favicons?sz=64&domain={domain}\"\n",
        "    try:\n",
        "        response = requests.get(logo_url)\n",
        "        response.raise_for_status()\n",
        "        img = Image.open(BytesIO(response.content))\n",
        "        img.show()  # Show logo in a new window\n",
        "        display(IPyImage(data=BytesIO(response.content).getvalue(), format='png'))\n",
        "        print(\"Displayed website logo.\")\n",
        "    except Exception as e:\n",
        "        print(f\"Error displaying website logo: {e}\")\n",
        "\n",
        "def export_to_file(data, filename):\n",
        "    with open(filename, \"w\") as file:\n",
        "        json.dump(data, file, indent=4)\n",
        "    print(f\"Information saved to {filename}\")\n",
        "\n",
        "def is_public_ip(ip_address):\n",
        "    ip = ipaddress.ip_address(ip_address)\n",
        "    return ip.is_global\n",
        "\n",
        "def dns_batch_resolver():\n",
        "    domains = input(\"Enter domain names separated by commas: \").split(\",\")\n",
        "    for domain in domains:\n",
        "        domain = domain.strip()\n",
        "        if domain:\n",
        "            dns_resolver(domain)\n",
        "\n",
        "if __name__ == \"__main__\":\n",
        "    dns_batch_resolver()\n"
      ],
      "metadata": {
        "colab": {
          "base_uri": "https://localhost:8080/"
        },
        "id": "j92D4jIRs04x",
        "outputId": "f02f966d-b5c2-486c-923e-7299d3d201dd"
      },
      "execution_count": null,
      "outputs": [
        {
          "output_type": "stream",
          "name": "stdout",
          "text": [
            "Requirement already satisfied: folium in /usr/local/lib/python3.10/dist-packages (0.17.0)\n",
            "Requirement already satisfied: pillow in /usr/local/lib/python3.10/dist-packages (10.4.0)\n",
            "Requirement already satisfied: branca>=0.6.0 in /usr/local/lib/python3.10/dist-packages (from folium) (0.8.0)\n",
            "Requirement already satisfied: jinja2>=2.9 in /usr/local/lib/python3.10/dist-packages (from folium) (3.1.4)\n",
            "Requirement already satisfied: numpy in /usr/local/lib/python3.10/dist-packages (from folium) (1.26.4)\n",
            "Requirement already satisfied: requests in /usr/local/lib/python3.10/dist-packages (from folium) (2.32.3)\n",
            "Requirement already satisfied: xyzservices in /usr/local/lib/python3.10/dist-packages (from folium) (2024.9.0)\n",
            "Requirement already satisfied: MarkupSafe>=2.0 in /usr/local/lib/python3.10/dist-packages (from jinja2>=2.9->folium) (3.0.2)\n",
            "Requirement already satisfied: charset-normalizer<4,>=2 in /usr/local/lib/python3.10/dist-packages (from requests->folium) (3.4.0)\n",
            "Requirement already satisfied: idna<4,>=2.5 in /usr/local/lib/python3.10/dist-packages (from requests->folium) (3.10)\n",
            "Requirement already satisfied: urllib3<3,>=1.21.1 in /usr/local/lib/python3.10/dist-packages (from requests->folium) (2.2.3)\n",
            "Requirement already satisfied: certifi>=2017.4.17 in /usr/local/lib/python3.10/dist-packages (from requests->folium) (2024.8.30)\n"
          ]
        }
      ]
    }
  ]
}